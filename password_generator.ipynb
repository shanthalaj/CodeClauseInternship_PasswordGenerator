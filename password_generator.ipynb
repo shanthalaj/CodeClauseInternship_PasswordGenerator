{
 "cells": [
  {
   "cell_type": "code",
   "execution_count": 1,
   "id": "7217fbd5",
   "metadata": {},
   "outputs": [
    {
     "name": "stdout",
     "output_type": "stream",
     "text": [
      "Welcome to the Random Password Generator!\n",
      "Enter password length: 6\n",
      "Include digits? (yes/no): yes\n",
      "Include letters? (yes/no): yes\n",
      "Include special characters? (yes/no): yes\n",
      "Your random password is: \\6P`1(\n"
     ]
    }
   ],
   "source": [
    "import string\n",
    "import random\n",
    "\n",
    "def generate_random_password(length, use_digits=True, use_letters=True, use_special_chars=True):\n",
    "    characters = ''\n",
    "    if use_digits:\n",
    "        characters += string.digits\n",
    "    if use_letters:\n",
    "        characters += string.ascii_letters\n",
    "    if use_special_chars:\n",
    "        characters += string.punctuation\n",
    "\n",
    "    if not characters:\n",
    "        print(\"Please select at least one character set.\")\n",
    "        return None\n",
    "\n",
    "    password = ''.join(random.choice(characters) for _ in range(length))\n",
    "    return password\n",
    "\n",
    "if __name__ == \"__main__\":\n",
    "    try:\n",
    "        print(\"Welcome to the Random Password Generator!\")\n",
    "        length = int(input(\"Enter password length: \"))\n",
    "        if length <= 0:\n",
    "            print(\"Password length should be a positive integer.\")\n",
    "        else:\n",
    "            use_digits = input(\"Include digits? (yes/no): \").lower().startswith('y')\n",
    "            use_letters = input(\"Include letters? (yes/no): \").lower().startswith('y')\n",
    "            use_special_chars = input(\"Include special characters? (yes/no): \").lower().startswith('y')\n",
    "\n",
    "            generated_password = generate_random_password(length, use_digits, use_letters, use_special_chars)\n",
    "            if generated_password:\n",
    "                print(\"Your random password is:\", generated_password)\n",
    "    except ValueError:\n",
    "        print(\"Please enter a valid password length.\")"
   ]
  },
  {
   "cell_type": "code",
   "execution_count": null,
   "id": "12c3a04d",
   "metadata": {},
   "outputs": [],
   "source": []
  }
 ],
 "metadata": {
  "kernelspec": {
   "display_name": "Python 3 (ipykernel)",
   "language": "python",
   "name": "python3"
  },
  "language_info": {
   "codemirror_mode": {
    "name": "ipython",
    "version": 3
   },
   "file_extension": ".py",
   "mimetype": "text/x-python",
   "name": "python",
   "nbconvert_exporter": "python",
   "pygments_lexer": "ipython3",
   "version": "3.11.3"
  }
 },
 "nbformat": 4,
 "nbformat_minor": 5
}
